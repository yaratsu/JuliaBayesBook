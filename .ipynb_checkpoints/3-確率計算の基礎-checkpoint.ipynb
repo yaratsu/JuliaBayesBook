{
 "cells": [
  {
   "cell_type": "markdown",
   "id": "5d0da8c9-b14f-43bf-8bd6-0d5e5b7f019a",
   "metadata": {},
   "source": [
    "## 確率的試行のシミュレーション"
   ]
  },
  {
   "cell_type": "markdown",
   "id": "176647c5-ca5b-4d7f-a6e3-e2a4e3084602",
   "metadata": {},
   "source": [
    "### サンプリング"
   ]
  },
  {
   "cell_type": "code",
   "execution_count": 1,
   "id": "6e1d6db2-1af9-4ab2-a69c-ce42d1fd4866",
   "metadata": {},
   "outputs": [
    {
     "data": {
      "text/plain": [
       "10-element Vector{Bool}:\n",
       " 1\n",
       " 1\n",
       " 1\n",
       " 1\n",
       " 1\n",
       " 0\n",
       " 1\n",
       " 0\n",
       " 1\n",
       " 1"
      ]
     },
     "execution_count": 1,
     "metadata": {},
     "output_type": "execute_result"
    }
   ],
   "source": [
    "using Distributions\n",
    "\n",
    "# パラメータが0.5のベルヌーイ分布を定義\n",
    "bern = Bernoulli(0.5)\n",
    "\n",
    "# 乱数を10個発生\n",
    "X = rand(bern, 10)"
   ]
  },
  {
   "cell_type": "code",
   "execution_count": 2,
   "id": "cd9c308c-b221-472f-9e28-0a3c0152ad85",
   "metadata": {},
   "outputs": [
    {
     "data": {
      "text/plain": [
       "10-element Vector{Bool}:\n",
       " 1\n",
       " 1\n",
       " 1\n",
       " 1\n",
       " 1\n",
       " 1\n",
       " 1\n",
       " 1\n",
       " 1\n",
       " 1"
      ]
     },
     "execution_count": 2,
     "metadata": {},
     "output_type": "execute_result"
    }
   ],
   "source": [
    "# パラメータを変更\n",
    "bern = Bernoulli(0.9)\n",
    "\n",
    "X = rand(bern, 10)"
   ]
  },
  {
   "cell_type": "code",
   "execution_count": 3,
   "id": "ffd842d1-2152-4704-86df-a7b08387ab0a",
   "metadata": {},
   "outputs": [
    {
     "data": {
      "text/plain": [
       "10-element Vector{String}:\n",
       " \"A\"\n",
       " \"A\"\n",
       " \"A\"\n",
       " \"A\"\n",
       " \"A\"\n",
       " \"A\"\n",
       " \"A\"\n",
       " \"A\"\n",
       " \"A\"\n",
       " \"B\""
      ]
     },
     "execution_count": 3,
     "metadata": {},
     "output_type": "execute_result"
    }
   ],
   "source": [
    "bag(x::Bool) = x == 1 ? \"A\" : \"B\"\n",
    "ball(y::Bool) = y == 1 ? \"赤\" : \"白\"\n",
    "X = bag.(rand(bern, 10))"
   ]
  },
  {
   "cell_type": "code",
   "execution_count": 4,
   "id": "451bf26f-0cce-45c8-a93f-8b5cae1d8ac8",
   "metadata": {},
   "outputs": [
    {
     "data": {
      "text/plain": [
       "sample (generic function with 1 method)"
      ]
     },
     "execution_count": 4,
     "metadata": {},
     "output_type": "execute_result"
    }
   ],
   "source": [
    "function sample()\n",
    "    # 袋の選択はそれぞれ1/2の確率\n",
    "    x = bag(rand(Bernoulli(1//2)))\n",
    "    \n",
    "    # 袋がAであれば，赤玉が出る確率は1/5\n",
    "    # 袋がBであれば，赤玉が出る確率は3/5\n",
    "    μ = x == \"A\" ? 1//5 : 3//5\n",
    "    \n",
    "    # 球の抽出\n",
    "    y = ball(rand(Bernoulli(μ)))\n",
    "    \n",
    "    x, μ, y\n",
    "end"
   ]
  },
  {
   "cell_type": "code",
   "execution_count": 5,
   "id": "3752cbe0-ba24-4ab3-b207-71c727c0a06f",
   "metadata": {},
   "outputs": [
    {
     "name": "stdout",
     "output_type": "stream",
     "text": [
      "袋: B, 玉: 赤\n",
      "袋: A, 玉: 白\n",
      "袋: A, 玉: 赤\n",
      "袋: A, 玉: 白\n",
      "袋: B, 玉: 白\n",
      "袋: B, 玉: 白\n",
      "袋: A, 玉: 赤\n",
      "袋: A, 玉: 白\n",
      "袋: A, 玉: 白\n",
      "袋: B, 玉: 白\n"
     ]
    }
   ],
   "source": [
    "for _ in 1:10\n",
    "    x, μ, y = sample()\n",
    "    println(\"袋: $(x), 玉: $(y)\")\n",
    "end"
   ]
  },
  {
   "cell_type": "markdown",
   "id": "557a9f84-4a1d-4ca5-8b3f-f82df0bf8829",
   "metadata": {},
   "source": [
    "### 周辺確率の計算"
   ]
  },
  {
   "cell_type": "code",
   "execution_count": 6,
   "id": "c8183377-9c81-4c48-a658-595bfcdb8e2d",
   "metadata": {},
   "outputs": [
    {
     "data": {
      "text/plain": [
       "0.36"
      ]
     },
     "execution_count": 6,
     "metadata": {},
     "output_type": "execute_result"
    }
   ],
   "source": [
    "maxiter = 100\n",
    "result = []\n",
    "for _ in 1:maxiter\n",
    "    x, μ, y = sample()\n",
    "    push!(result, y)\n",
    "end\n",
    "mean(result .== \"赤\")"
   ]
  },
  {
   "cell_type": "code",
   "execution_count": 7,
   "id": "ea959339-e65c-416b-8773-524d86848e95",
   "metadata": {},
   "outputs": [
    {
     "data": {
      "text/plain": [
       "0.400199"
      ]
     },
     "execution_count": 7,
     "metadata": {},
     "output_type": "execute_result"
    }
   ],
   "source": [
    "maxiter = 1_000_000\n",
    "result = []\n",
    "for _ in 1:maxiter\n",
    "    x, μ, y = sample()\n",
    "    push!(result, y)\n",
    "end\n",
    "mean(result .== \"赤\")"
   ]
  },
  {
   "cell_type": "markdown",
   "id": "1d2b1ef9-d7ce-42ec-a1d5-b10540b6bec2",
   "metadata": {},
   "source": [
    "### 条件付き確率の計算"
   ]
  },
  {
   "cell_type": "code",
   "execution_count": 12,
   "id": "55762404-630d-417d-b43e-c43f6f2f5754",
   "metadata": {},
   "outputs": [
    {
     "name": "stdout",
     "output_type": "stream",
     "text": [
      "acceptance rate = 0.400015\n",
      "p(x=A|y=赤) : approx = 0.25126807744709573 (exact = 0.25))\n",
      "p(x=B|y=赤) : approx = 0.7487319225529042 (exact = 0.75))\n"
     ]
    }
   ],
   "source": [
    "# 観測値（赤玉）\n",
    "y_obs = \"赤\"\n",
    "\n",
    "maxiter = 1_000_000\n",
    "x_results = []\n",
    "for _ in 1:maxiter\n",
    "    x, μ, y = sample()\n",
    "    \n",
    "    # 生成されたyが観測と一致する場合のみ追加\n",
    "    y == y_obs && push!(x_results, x)\n",
    "end\n",
    "\n",
    "# 受容率（観測と一致した割合）\n",
    "println(\"acceptance rate = $(length(x_results)/maxiter)\")\n",
    "\n",
    "# 玉が赤だった場合の袋の条件付き分布\n",
    "println(\"p(x=A|y=赤) : approx = $(mean(x_results .== \"A\")) (exact = $(1/4)))\")\n",
    "println(\"p(x=B|y=赤) : approx = $(mean(x_results .== \"B\")) (exact = $(3/4)))\")"
   ]
  },
  {
   "cell_type": "markdown",
   "id": "012eb868-9df3-4b54-a96e-0459c6ddb2c6",
   "metadata": {},
   "source": [
    "### 複数のデータがある場合"
   ]
  },
  {
   "cell_type": "code",
   "execution_count": 14,
   "id": "047455e6-1b90-4702-bf54-3c7a9b86d9e5",
   "metadata": {},
   "outputs": [
    {
     "data": {
      "text/plain": [
       "sample (generic function with 2 methods)"
      ]
     },
     "execution_count": 14,
     "metadata": {},
     "output_type": "execute_result"
    }
   ],
   "source": [
    "function sample(N)\n",
    "    x = bag(rand(Bernoulli(1//2)))\n",
    "    μ = x == \"A\" ? 1//5 : 3//5\n",
    "    \n",
    "    # 玉をN回抽出する\n",
    "    Y = ball.(rand(Bernoulli(μ), N))\n",
    "    \n",
    "    x, μ, Y\n",
    "end"
   ]
  },
  {
   "cell_type": "code",
   "execution_count": 17,
   "id": "c00f87d8-cae5-4d72-a3e3-27162b73efa8",
   "metadata": {},
   "outputs": [
    {
     "name": "stdout",
     "output_type": "stream",
     "text": [
      "acceptance rate = 0.0846\n",
      "p(x=A|y₁=赤, y₂=赤, y₃=白) : approx = 0.21040189125295508 (exact = 0.18181818181818182)\n",
      "p(x=B|y₁=赤, y₂=赤, y₃=白) : approx = 0.789598108747045 (exact = 0.8181818181818182)\n"
     ]
    }
   ],
   "source": [
    "maxiter = 10_000\n",
    "Y_obs = [\"赤\", \"赤\", \"白\"]\n",
    "x_results = []\n",
    "for _ in 1:maxiter\n",
    "    x, μ, Y = sample(3)\n",
    "    \n",
    "    # 3つの玉が完全に一致する場合のみ受容\n",
    "    Y == Y_obs && push!(x_results, x)\n",
    "end\n",
    "println(\"acceptance rate = $(length(x_results)/maxiter)\")\n",
    "println(\"p(x=A|y₁=赤, y₂=赤, y₃=白) : \" *\n",
    "         \"approx = $(mean(x_results .== \"A\")) (exact = $(2/11))\")\n",
    "println(\"p(x=B|y₁=赤, y₂=赤, y₃=白) : \" *\n",
    "         \"approx = $(mean(x_results .== \"B\")) (exact = $(9/11))\")"
   ]
  },
  {
   "cell_type": "code",
   "execution_count": 19,
   "id": "2ca732b3-abad-4009-8341-30f1f9e8394a",
   "metadata": {},
   "outputs": [
    {
     "name": "stdout",
     "output_type": "stream",
     "text": [
      "acceptance rate = 0.2662\n",
      "p(x=A|y₁=赤, y₂=赤, y₃=白) : approx = 0.18670172802404209 (exact = 0.18181818181818182)\n",
      "p(x=B|y₁=赤, y₂=赤, y₃=白) : approx = 0.8132982719759579 (exact = 0.8181818181818182)\n"
     ]
    }
   ],
   "source": [
    "maxiter = 10_000\n",
    "Y_obs = [\"赤\", \"赤\", \"白\"]\n",
    "x_results = []\n",
    "for _ in 1:maxiter\n",
    "    x, μ, Y = sample(3)\n",
    "    \n",
    "    # 赤玉の個数さえ一致すれば受容するように修正\n",
    "    sum(Y .== \"赤\") == sum(Y_obs .== \"赤\") && push!(x_results, x)\n",
    "end\n",
    "println(\"acceptance rate = $(length(x_results)/maxiter)\")\n",
    "println(\"p(x=A|y₁=赤, y₂=赤, y₃=白) : \" *\n",
    "         \"approx = $(mean(x_results .== \"A\")) (exact = $(2/11))\")\n",
    "println(\"p(x=B|y₁=赤, y₂=赤, y₃=白) : \" *\n",
    "         \"approx = $(mean(x_results .== \"B\")) (exact = $(9/11))\")"
   ]
  },
  {
   "cell_type": "code",
   "execution_count": null,
   "id": "0d0f6785-155d-4fc4-9370-cb8f2712138b",
   "metadata": {},
   "outputs": [],
   "source": []
  }
 ],
 "metadata": {
  "kernelspec": {
   "display_name": "Julia 1.7.2",
   "language": "julia",
   "name": "julia-1.7"
  },
  "language_info": {
   "file_extension": ".jl",
   "mimetype": "application/julia",
   "name": "julia",
   "version": "1.7.2"
  }
 },
 "nbformat": 4,
 "nbformat_minor": 5
}
